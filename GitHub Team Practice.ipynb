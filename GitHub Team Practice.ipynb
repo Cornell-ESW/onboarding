{
 "cells": [
  {
   "attachments": {},
   "cell_type": "markdown",
   "metadata": {},
   "source": [
    "Before running a cell, remember to make sure to choose \"esw\" for the Kernel python environments in the upper right!"
   ]
  },
  {
   "attachments": {},
   "cell_type": "markdown",
   "metadata": {},
   "source": [
    "## GitHub Practice"
   ]
  },
  {
   "attachments": {},
   "cell_type": "markdown",
   "metadata": {},
   "source": [
    "We already learned how to commit and push to GitHub.  But how do we effectively collaborate with others using GitHub?\n",
    "\n",
    "Collaborating with others requires the use of **fetching** and **pulling** commits from the repository.  You must always fetch before pulling.  This is analogous to checking to see if there are changes in the cloud, and then downloading those changes."
   ]
  },
  {
   "attachments": {},
   "cell_type": "markdown",
   "metadata": {},
   "source": [
    "We will practice committing, pushing, and pulling as a team!\n",
    "1. One person will start by writing a print statement with what they were/will be for Halloween.  They will commit and push.\n",
    "2. This person popcorns to another person, who will fetch, pull, and reveal what the original person was/will be for Halloween!\n",
    "3. Etc."
   ]
  },
  {
   "cell_type": "code",
   "execution_count": 26,
   "metadata": {},
   "outputs": [
    {
     "name": "stdout",
     "output_type": "stream",
     "text": [
      "Reid was/will be Reid for Halloween!\n",
      "Renee was/will be cow girl for Halloween!\n",
      "Keya was a Witch for Halloween\n",
      "Sridula was a scarecrow for Halloween\n",
      "Sanjum was Luigi for Halloween!\n",
      "Raina was Charlie's Angels for Halloween!\n",
      "Katelyn Was a fairy for Halloween\n",
      "Aimee was a fisherman for Halloween\n",
      "Reinesse was a cop for Halloween\n",
      "Sreya was a lion for Halloween\n"
     ]
    }
   ],
   "source": [
    "print(\"Reid was/will be Reid for Halloween!\")\n",
    "print(\"Renee was/will be cow girl for Halloween!\")\n",
    "print(\"Keya was a Witch for Halloween\")\n",
    "print(\"Sridula was a scarecrow for Halloween\")\n",
    "print(\"Sanjum was Luigi for Halloween!\")\n",
    "print(\"Raina was Charlie's Angels for Halloween!\")\n",
    "print(\"Katelyn Was a fairy for Halloween\")\n",
    "print(\"Aimee was a fisherman for Halloween\")\n",
    "print(\"Reinesse was a cop for Halloween\")\n",
    "print(\"Sreya was a lion for Halloween\")\n",
    "print(\"Pranati was TinkerBell for Halloween\")"
   ]
  },
  {
   "attachments": {},
   "cell_type": "markdown",
   "metadata": {},
   "source": [
    "——————— BELOW IS FOR NEXT TIME (WIP) ———————"
   ]
  },
  {
   "attachments": {},
   "cell_type": "markdown",
   "metadata": {},
   "source": [
    "3b) When you have a large, complex repository, you often want to create separate \"copies\" of the repository to work on separate major features.  To do this, you will create multiple **branches** in GitHub.  A branch is essentially a copy of the repository.\n",
    "\n",
    "The main branch is named, well, **main**.\n",
    "\n",
    "To create a new branch based on the current state of the repository, click the \"Current Branch\" button at the top of GitHub Desktop and click \"New Branch\""
   ]
  },
  {
   "attachments": {},
   "cell_type": "markdown",
   "metadata": {},
   "source": [
    "But what happens if BOTH of you edit the name at the same time, and then try to simultaneously push each of your changes?  This will result in a **merge conflict**.\n",
    "\n",
    "Merge conflicts sound scary, but if you're patient and careful, it's not so bad."
   ]
  },
  {
   "attachments": {},
   "cell_type": "markdown",
   "metadata": {},
   "source": [
    "3b) You're going to purposely create a merge conflict!\n",
    "1. Both partners fetch and pull the latest version of the notebook you were using for the previous activity\n",
    "2. Both will edit the print statement to something different\n",
    "3. Both will commit and push.  Notice what happens!"
   ]
  },
  {
   "attachments": {},
   "cell_type": "markdown",
   "metadata": {},
   "source": [
    "3c) Resolve the merge conflict "
   ]
  },
  {
   "attachments": {},
   "cell_type": "markdown",
   "metadata": {},
   "source": []
  }
 ],
 "metadata": {
  "kernelspec": {
   "display_name": "esw",
   "language": "python",
   "name": "python3"
  },
  "language_info": {
   "codemirror_mode": {
    "name": "ipython",
    "version": 3
   },
   "file_extension": ".py",
   "mimetype": "text/x-python",
   "name": "python",
   "nbconvert_exporter": "python",
   "pygments_lexer": "ipython3",
   "version": "3.11.5"
  },
  "orig_nbformat": 4
 },
 "nbformat": 4,
 "nbformat_minor": 2
}
