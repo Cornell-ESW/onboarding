{
 "cells": [
  {
   "cell_type": "code",
   "execution_count": 6,
   "metadata": {},
   "outputs": [],
   "source": [
    "import os\n",
    "os.getcwd()\n",
    "new_directory = r'c:\\Users\\Jonnalagadda\\Downloads'\n",
    "os.chdir(new_directory)\n"
   ]
  },
  {
   "cell_type": "code",
   "execution_count": 7,
   "metadata": {},
   "outputs": [],
   "source": [
    "\n",
    "import pickle \n",
    "with open('errors.pkl', 'rb') as f:\n",
    "    dfDiarios = pickle.load(f)\n",
    "   \n"
   ]
  },
  {
   "cell_type": "code",
   "execution_count": 8,
   "metadata": {},
   "outputs": [
    {
     "name": "stdout",
     "output_type": "stream",
     "text": [
      "       city_id  diario_id                                               text\n",
      "0          356     366953  {'Poder Executivo': {'Atos Oficiais': {'Portar...\n",
      "1          356     365301  {'Poder Executivo': {'Atos Oficiais': {'Portar...\n",
      "2          356     364742  {'Poder Executivo': {'Licitações e Contratos':...\n",
      "3          356     364226  {'Poder Executivo': {'Licitações e Contratos':...\n",
      "4          356     360687  {'Poder Executivo': {'Licitações e Contratos':...\n",
      "...        ...        ...                                                ...\n",
      "25085     5521     227379  {'Licitação': {'Outros Atos': {'Outros Atos': ...\n",
      "25086     5521     225948  {'Licitação': {'Outros Atos': {'Outros Atos': ...\n",
      "25087     5521     225515  {'Contabilidade': {'Outros Atos': {'Outros Ato...\n",
      "25088     5522     357038  {'Poder Legislativo': {'Licitações e Contratos...\n",
      "25089     5522     356816  {'Poder Legislativo': {'Licitações e Contratos...\n",
      "\n",
      "[25090 rows x 3 columns]\n"
     ]
    }
   ],
   "source": [
    "print(dfDiarios)"
   ]
  },
  {
   "cell_type": "code",
   "execution_count": 10,
   "metadata": {},
   "outputs": [],
   "source": [
    "import unicodedata\n",
    "\n",
    "def normalize_text(text):\n",
    "    if isinstance(text, dict):\n",
    "        # If the value is a dictionary, extract the text and normalize it\n",
    "        text = text.get(, '')  # Replace 'key_with_text' with the actual key containing the text\n",
    "    if isinstance(text, str):\n",
    "        return unicodedata.normalize(\"NFKD\", text)\n",
    "    else:\n",
    "        return text\n",
    "\n",
    "# Apply the normalization function to the 'text' column\n",
    "dfDiarios['text'] = dfDiarios['text'].apply(normalize_text)\n"
   ]
  },
  {
   "cell_type": "code",
   "execution_count": 12,
   "metadata": {},
   "outputs": [
    {
     "name": "stdout",
     "output_type": "stream",
     "text": [
      "0         \n",
      "1         \n",
      "2         \n",
      "3         \n",
      "4         \n",
      "        ..\n",
      "25085     \n",
      "25086     \n",
      "25087     \n",
      "25088     \n",
      "25089     \n",
      "Name: text, Length: 25090, dtype: object\n"
     ]
    }
   ],
   "source": [
    "print(dfDiarios['text'])"
   ]
  }
 ],
 "metadata": {
  "kernelspec": {
   "display_name": "base",
   "language": "python",
   "name": "python3"
  },
  "language_info": {
   "codemirror_mode": {
    "name": "ipython",
    "version": 3
   },
   "file_extension": ".py",
   "mimetype": "text/x-python",
   "name": "python",
   "nbconvert_exporter": "python",
   "pygments_lexer": "ipython3",
   "version": "3.9.12"
  },
  "orig_nbformat": 4
 },
 "nbformat": 4,
 "nbformat_minor": 2
}
