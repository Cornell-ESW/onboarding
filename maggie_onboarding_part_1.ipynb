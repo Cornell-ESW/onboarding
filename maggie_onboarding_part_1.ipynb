{
 "cells": [
  {
   "cell_type": "markdown",
   "metadata": {},
   "source": [
    "Welcome to the ESW Python Onboarding workshop!  Right now, you are working in a Jupyter Notebook, which contains cells.  A cell can be made up of text, like this one, or contain code, like most of the ones below.\n",
    "\n",
    "Before running a cell, be sure to choose \"esw\" for the Kernel python environments in the upper right!"
   ]
  },
  {
   "cell_type": "markdown",
   "metadata": {},
   "source": [
    "To run a code cell, click on the cell and press shift-enter"
   ]
  },
  {
   "cell_type": "markdown",
   "metadata": {},
   "source": [
    "## Importing Packages"
   ]
  },
  {
   "cell_type": "markdown",
   "metadata": {},
   "source": [
    "1a) To utilize a package, type \"import\" followed by the package name.  You can give it a shorthand name, such as pd\n",
    "\n",
    "If you installed everything correctly, this cell below should run successfully.  If not, what do you think you need to do?"
   ]
  },
  {
   "cell_type": "code",
   "execution_count": 1,
   "metadata": {},
   "outputs": [],
   "source": [
    "import pandas as pd"
   ]
  },
  {
   "cell_type": "markdown",
   "metadata": {},
   "source": [
    "1b) Let's try importing another package.  This one is used in the HPDD project\n",
    "\n",
    "Notice the error you get when running the cell.  What do you think this means?"
   ]
  },
  {
   "cell_type": "code",
   "execution_count": 2,
   "metadata": {},
   "outputs": [],
   "source": [
    "import dash_bootstrap_components as dbc"
   ]
  },
  {
   "cell_type": "markdown",
   "metadata": {},
   "source": [
    "1c) Try searching for this package in Anaconda Navigator.  What do you notice?"
   ]
  },
  {
   "cell_type": "markdown",
   "metadata": {},
   "source": [
    "1d) Some packages cannot be installed from the Anaconda Navigator.  In this case, we have to install the package via the command line.  There are two ways to do this; follow these steps in order:\n",
    "\n",
    "Step 1: Try installing the package using **Anaconda command line**.\n",
    "- Step 1a: Activate your Anaconda environment.  Open a terminal and run: `conda activate esw`\n",
    "- Step 1b: In the same terminal, run: `conda install -c conda-forge package_name`, replacing “package_name” with the name of the package\n",
    "- Step 1c: This may take a while, especially if it’s trying to “solve” the environment.  Be patient and you may need to confirm certain settings if it asks.  You’ll know once it successfully installed or if it failed.  If it fails, Google the error that appears and try to resolve it on your own.\n",
    "\n",
    "Step 2: If you’re unable to resolve the error, or if you determine that Anaconda does not contain the package you’re looking for, then you may need to install using **pip or pip3**\n",
    "- Step 2a: Open a terminal, activate your Conda environment as above, and run: `pip install package_name`\n",
    "- Step 2c: Monitor messages and errors, and be sure to Google any errors to fix the problem.  It might be frustrating at times, but you can do this!\n",
    "\n",
    "Step 3: If you're *still* running into trouble, make sure you're Googling everything you can.  You'll eventually figure it out :)\n"
   ]
  },
  {
   "cell_type": "markdown",
   "metadata": {},
   "source": [
    "1e) When you think you've got the package installed, re-run the code cell above.  What do you notice?"
   ]
  },
  {
   "cell_type": "markdown",
   "metadata": {},
   "source": [
    "1f) Install the following packages:\n",
    "1. `python-dotenv` [hint: you can use Anaconda Navigator or conda-forge in the command line]\n",
    "2. `dash_treeview_antd` [hint: you must use pip]\n",
    "\n",
    "Make sure the cell below runs"
   ]
  },
  {
   "cell_type": "code",
   "execution_count": 1,
   "metadata": {},
   "outputs": [],
   "source": [
    "import dotenv\n",
    "import dash_treeview_antd"
   ]
  },
  {
   "cell_type": "markdown",
   "metadata": {},
   "source": [
    "## Using Documentation to Find Packages"
   ]
  },
  {
   "cell_type": "markdown",
   "metadata": {},
   "source": [
    "Sometimes, you may need to find packages relevant for your project.  Finding packages that work for your needs can be tricky.  Fortunately, almost anything that you might need will be out there somewhere — it's only a matter of finding it.\n",
    "\n",
    "Google is your best friend here."
   ]
  },
  {
   "cell_type": "markdown",
   "metadata": {},
   "source": [
    "2a) In this exercise, we want to find a Python package that connects to Tableau, a graphing application, and allows you to upload data from Python to Tableau — to help out B&P, of course :)\n",
    "\n",
    "Many Python packages come in the form of an API.  An API stands for Application Programming Interface.  This sounds complicated, but it's really simple.  An API essentially allows something like Python to communicate with a service.  You pass data or other information into an API and it does something for you or returns information for you.  A common example is a weather API.  In Python, you send a request to an API with specific parameters, like location, date ranges, and type of weather you want to see, and then the weather API will return a file with information on historical weather at that location, in that date range, and for that weather type.\n",
    "\n",
    "Use Google to find 2-3 Python API packages for Tableau, and write them in the cell below"
   ]
  },
  {
   "cell_type": "markdown",
   "metadata": {},
   "source": [
    "Write Tableau packages here\n",
    "- pip install tableauserverclient\n",
    "- pip install tabpy"
   ]
  },
  {
   "cell_type": "markdown",
   "metadata": {},
   "source": [
    "## GitHub Practice"
   ]
  },
  {
   "cell_type": "markdown",
   "metadata": {},
   "source": [
    "We already learned how to commit and push to GitHub.  But how do we effectively collaborate with others using GitHub?\n",
    "\n",
    "Collaborating with others requires the use of **fetching** and **pulling** commits from the repository.  You must always fetch before pulling.  This is analogous to checking to see if there are changes in the cloud, and then downloading those changes."
   ]
  },
  {
   "cell_type": "markdown",
   "metadata": {},
   "source": [
    "3a) Practice committing, pushing, and pulling with your partner.  Pick one of the notebook files between you and your partner.\n",
    "1. Person A starts by changing the print statement to Person B's name.\n",
    "2. Person A commits and pushes on their computer\n",
    "3. Person B fetches and pulls on their computer, then changes the print statement to Person A's name, then commits and pushes\n",
    "4. Person A fetches and pulls on their computer"
   ]
  },
  {
   "cell_type": "code",
   "execution_count": null,
   "metadata": {},
   "outputs": [],
   "source": [
    "print(\"Hi Martha!\") # change the name to your partner"
   ]
  },
  {
   "cell_type": "markdown",
   "metadata": {},
   "source": [
    "——————— BELOW IS FOR NEXT TIME (WIP) ———————"
   ]
  },
  {
   "cell_type": "markdown",
   "metadata": {},
   "source": [
    "3b) When you have a large, complex repository, you often want to create separate \"copies\" of the repository to work on separate major features.  To do this, you will create multiple **branches** in GitHub.  A branch is essentially a copy of the repository.\n",
    "\n",
    "The main branch is named, well, **main**.\n",
    "\n",
    "To create a new branch based on the current state of the repository, click the \"Current Branch\" button at the top of GitHub Desktop and click \"New Branch\""
   ]
  },
  {
   "cell_type": "markdown",
   "metadata": {},
   "source": [
    "But what happens if BOTH of you edit the name at the same time, and then try to simultaneously push each of your changes?  This will result in a **merge conflict**.\n",
    "\n",
    "Merge conflicts sound scary, but if you're patient and careful, it's not so bad."
   ]
  },
  {
   "cell_type": "markdown",
   "metadata": {},
   "source": [
    "3b) You're going to purposely create a merge conflict!\n",
    "1. Both partners fetch and pull the latest version of the notebook you were using for the previous activity\n",
    "2. Both will edit the print statement to something different\n",
    "3. Both will commit and push.  Notice what happens!"
   ]
  },
  {
   "cell_type": "markdown",
   "metadata": {},
   "source": [
    "3c) Resolve the merge conflict "
   ]
  },
  {
   "cell_type": "markdown",
   "metadata": {},
   "source": []
  }
 ],
 "metadata": {
  "kernelspec": {
   "display_name": "esw",
   "language": "python",
   "name": "python3"
  },
  "language_info": {
   "codemirror_mode": {
    "name": "ipython",
    "version": 3
   },
   "file_extension": ".py",
   "mimetype": "text/x-python",
   "name": "python",
   "nbconvert_exporter": "python",
   "pygments_lexer": "ipython3",
   "version": "3.11.4"
  },
  "orig_nbformat": 4
 },
 "nbformat": 4,
 "nbformat_minor": 2
}
