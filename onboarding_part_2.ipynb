{
 "cells": [
  {
   "cell_type": "markdown",
   "metadata": {},
   "source": [
    "## More GitHub Practice (WIP)"
   ]
  },
  {
   "cell_type": "markdown",
   "metadata": {},
   "source": [
    "We already learned how to fetch, pull, commit, and push to GitHub.  But how can we make this more organized?\n",
    "\n",
    "When you have a large, complex repository, you often want to create separate \"copies\" of the repository to work on separate major features.  To do this, you will create multiple **branches** in GitHub.  A branch is essentially a copy of the repository.\n",
    "\n",
    "The main branch is named, well, **main**."
   ]
  },
  {
   "cell_type": "markdown",
   "metadata": {},
   "source": [
    "1a) To create a new branch based on the current state of the repository, click the \"Current Branch\" button at the top of GitHub Desktop and click \"New Branch\".  Only one partner should do this.\n",
    "\n",
    "Name the branch \"feat_new_name\", push the branch, and then both partners should fetch.  You should now see the branch show up when clicking \"Current Branch\"."
   ]
  },
  {
   "cell_type": "markdown",
   "metadata": {},
   "source": [
    "1b) One of you should navigate to the new branch, and the other person should stay in the main branch.  Both of you go ahead and make a change to the cell below, commit, and push.  While staying on separate branches, do you see the other person's changes in the file?  If you change branches, do you see the other person's changes in the file?"
   ]
  },
  {
   "cell_type": "markdown",
   "metadata": {},
   "source": [
    "But what happens if BOTH of you edit the name at the same time, and then try to simultaneously push each of your changes?  This will result in a **merge conflict**.\n",
    "\n",
    "Merge conflicts sound scary, but if you're patient and careful, it's not so bad."
   ]
  },
  {
   "cell_type": "markdown",
   "metadata": {},
   "source": [
    "3b) You're going to purposely create a merge conflict!\n",
    "1. Both partners fetch and pull the latest version of the notebook you were using for the previous activity\n",
    "2. Both will edit the print statement below in the same file to something different\n",
    "3. Both will commit and push.  Notice what happens!"
   ]
  },
  {
   "cell_type": "markdown",
   "metadata": {},
   "source": [
    "3c) Resolve the merge conflict "
   ]
  }
 ],
 "metadata": {
  "kernelspec": {
   "display_name": "esw",
   "language": "python",
   "name": "python3"
  },
  "language_info": {
   "codemirror_mode": {
    "name": "ipython",
    "version": 3
   },
   "file_extension": ".py",
   "mimetype": "text/x-python",
   "name": "python",
   "nbconvert_exporter": "python",
   "pygments_lexer": "ipython3",
   "version": "3.11.5"
  },
  "orig_nbformat": 4
 },
 "nbformat": 4,
 "nbformat_minor": 2
}
